{
 "cells": [
  {
   "cell_type": "code",
   "execution_count": 1,
   "metadata": {},
   "outputs": [],
   "source": [
    "import lyricsgenius\n",
    "from multiprocessing import current_process, Pool\n",
    "import time\n",
    "import sqlite3"
   ]
  },
  {
   "cell_type": "code",
   "execution_count": 2,
   "metadata": {},
   "outputs": [],
   "source": [
    "genius_tokens = [\n",
    "    \"tETKVL7G-wtix9PAAPxsDeW-j8sS1D4L-zyWei7n1Xq1WUh9VuwFLHAXlBP5X5zq\",\n",
    "    \"6rUGP-maK090aBdaNi1Z0qm2CtFDoIyteABaTh441aYc4eKHyKYPv5Q8luozmFC0\",\n",
    "    \"whDHSeFHAeKA9f3mEt63XMBJVBBp-OO-01qRzn4mu8L1pQoI5hFywcm5MK2DkxgV\",\n",
    "    \"Cj82uimfARNlK36SjqkeXAqpqoWdACXWwm1kIRHzYLAbkUiHYcvNqfj9Iq99J8iR\"\n",
    "]"
   ]
  },
  {
   "cell_type": "code",
   "execution_count": 3,
   "metadata": {},
   "outputs": [],
   "source": [
    "genius_apis = []\n",
    "for token in genius_tokens:\n",
    "    genius_apis.append(lyricsgenius.Genius(token))"
   ]
  },
  {
   "cell_type": "code",
   "execution_count": 4,
   "metadata": {},
   "outputs": [],
   "source": [
    "def get_lyrics(song, artist):\n",
    "    proc = current_process()._identity[0]\n",
    "    try:\n",
    "        return genius_apis[proc%4].search_song(song, artist)\n",
    "    except:\n",
    "        return get_lyrics(song, artist)"
   ]
  },
  {
   "cell_type": "code",
   "execution_count": 5,
   "metadata": {},
   "outputs": [],
   "source": [
    "song_names = [\n",
    "    [\"The Magician\", \"Andy Shauf\"],\n",
    "    [\"Begin Again\", \"Andy Shauf\"],\n",
    "    [\"Martha Sways\", \"Andy Shauf\"],\n",
    "    [\"I Will\", \"The Beatles\"],\n",
    "    [\"90210\", \"Travis Scott\"],\n",
    "    [\"Soma\", \"The Strokes\"],\n",
    "    [\"Hey Jude\", \"The Beatles\"],\n",
    "    [\"Hey Bulldog\", \"The Beatles\"],\n",
    "    [\"Self Care\", \"Mac Miller\"],\n",
    "    [\"Machu Picchu\", \"The Strokes\"],\n",
    "    [\"Blue Boy\", \"Mac DeMarco\"],\n",
    "    [\"Dreams Via Memories\", \"Ceramic Animal\"],\n",
    "    [\"White Gloves\", \"Khruangbin\"],\n",
    "    [\"Down the Line\", \"Beach Fossils\"],\n",
    "    [\"Sleep Apnea\", \"Beach Fossils\"]\n",
    "]"
   ]
  },
  {
   "cell_type": "code",
   "execution_count": null,
   "metadata": {},
   "outputs": [],
   "source": [
    "songs = []\n",
    "start = time.perf_counter()\n",
    "for song_name in song_names:\n",
    "    songs.append(get_lyrics(song_name[0], song_name[1]))\n",
    "print(songs)\n",
    "print(time.perf_counter() - start, \" seconds for \", len(song_names), \" songs\")"
   ]
  },
  {
   "cell_type": "code",
   "execution_count": 6,
   "metadata": {},
   "outputs": [
    {
     "name": "stdout",
     "output_type": "stream",
     "text": [
      "Searching for \"The Magician\" by Andy Shauf...Searching for \"Martha Sways\" by Andy Shauf...\n",
      "\n",
      "Searching for \"Begin Again\" by Andy Shauf...\n",
      "Searching for \"I Will\" by The Beatles...\n",
      "Done.\n",
      "Searching for \"90210\" by Travis Scott...Done.Done.\n",
      "Searching for \"Soma\" by The Strokes...\n",
      "\n",
      "\n",
      "Done.Searching for \"Hey Jude\" by The Beatles...\n",
      "\n",
      "Searching for \"Hey Bulldog\" by The Beatles...\n",
      "Done.\n",
      "Searching for \"Self Care\" by Mac Miller...\n",
      "Done.\n",
      "Searching for \"Machu Picchu\" by The Strokes...\n",
      "Done.Done.\n",
      "\n",
      "Searching for \"Blue Boy\" by Mac DeMarco...Searching for \"Dreams Via Memories\" by Ceramic Animal...\n",
      "\n",
      "Done.\n",
      "Searching for \"White Gloves\" by Khruangbin...\n",
      "Done.\n",
      "Searching for \"Down the Line\" by Beach Fossils...\n",
      "Done.\n",
      "Searching for \"Sleep Apnea\" by Beach Fossils...\n",
      "Done.\n",
      "Done.\n",
      "Done.\n",
      "Done.\n",
      "[('The Magician', 'Andy Shauf'), ('Begin Again', 'Andy Shauf'), ('Martha Sways', 'Andy Shauf'), ('I Will', 'The Beatles'), ('90210', 'Travis Scott'), ('Soma', 'The Strokes'), ('Hey Jude', 'The Beatles'), ('Hey Bulldog', 'The Beatles'), ('Self Care', 'Mac Miller'), ('Machu Picchu', 'The Strokes'), ('Blue Boy', 'Mac DeMarco'), ('Dreams Via Memories', 'Ceramic Animal'), ('White Gloves', 'Khruangbin'), ('Down the Line', 'Beach Fossils'), ('Sleep Apnea', 'Beach Fossils')]\n",
      "6.8449754079993  seconds for  15  songs\n"
     ]
    }
   ],
   "source": [
    "start = time.perf_counter()\n",
    "with Pool(processes=4) as p:\n",
    "    songs = p.starmap(get_lyrics, song_names)\n",
    "print(songs)\n",
    "print(time.perf_counter() - start, \" seconds for \", len(song_names), \" songs\")"
   ]
  },
  {
   "cell_type": "code",
   "execution_count": null,
   "metadata": {},
   "outputs": [],
   "source": [
    "for song in songs:\n",
    "    print(song.lyrics)"
   ]
  },
  {
   "cell_type": "code",
   "execution_count": null,
   "metadata": {},
   "outputs": [],
   "source": []
  }
 ],
 "metadata": {
  "kernelspec": {
   "display_name": "Python 3",
   "language": "python",
   "name": "python3"
  },
  "language_info": {
   "codemirror_mode": {
    "name": "ipython",
    "version": 3
   },
   "file_extension": ".py",
   "mimetype": "text/x-python",
   "name": "python",
   "nbconvert_exporter": "python",
   "pygments_lexer": "ipython3",
   "version": "3.8.5"
  }
 },
 "nbformat": 4,
 "nbformat_minor": 4
}
