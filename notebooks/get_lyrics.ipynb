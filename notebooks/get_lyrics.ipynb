{
 "cells": [
  {
   "cell_type": "code",
   "execution_count": 5,
   "metadata": {},
   "outputs": [],
   "source": [
    "import lyricsgenius\n",
    "from multiprocessing import current_process, Pool\n",
    "import time\n",
    "import sqlite3"
   ]
  },
  {
   "cell_type": "markdown",
   "metadata": {},
   "source": [
    "## Genius API"
   ]
  },
  {
   "cell_type": "code",
   "execution_count": 6,
   "metadata": {},
   "outputs": [],
   "source": [
    "genius_tokens = [\n",
    "    \"tETKVL7G-wtix9PAAPxsDeW-j8sS1D4L-zyWei7n1Xq1WUh9VuwFLHAXlBP5X5zq\",\n",
    "    \"6rUGP-maK090aBdaNi1Z0qm2CtFDoIyteABaTh441aYc4eKHyKYPv5Q8luozmFC0\",\n",
    "    \"whDHSeFHAeKA9f3mEt63XMBJVBBp-OO-01qRzn4mu8L1pQoI5hFywcm5MK2DkxgV\",\n",
    "    \"Cj82uimfARNlK36SjqkeXAqpqoWdACXWwm1kIRHzYLAbkUiHYcvNqfj9Iq99J8iR\"\n",
    "]\n",
    "genius_apis = []\n",
    "for token in genius_tokens:\n",
    "    genius_apis.append(lyricsgenius.Genius(token))"
   ]
  },
  {
   "cell_type": "code",
   "execution_count": 7,
   "metadata": {},
   "outputs": [],
   "source": [
    "def get_lyrics(song, artist):\n",
    "    try:\n",
    "        proc = current_process()._identity[0]\n",
    "    except:\n",
    "        proc = 0\n",
    "        \n",
    "    return genius_apis[proc%len(genius_tokens)].search_song(song, artist)"
   ]
  },
  {
   "cell_type": "code",
   "execution_count": 8,
   "metadata": {},
   "outputs": [],
   "source": [
    "def get_lyrics_serial(song_artists):\n",
    "    start = time.perf_counter()\n",
    "\n",
    "    genius_songs = []\n",
    "    for song_artist in song_artists:\n",
    "        genius_songs.append(get_lyrics(song_artist[0], song_artist[1]))\n",
    "\n",
    "    print(f\"{time.perf_counter()-start} seconds for {len(song_artists)} songs\")\n",
    "    \n",
    "    return genius_songs"
   ]
  },
  {
   "cell_type": "code",
   "execution_count": 9,
   "metadata": {},
   "outputs": [],
   "source": [
    "def get_lyrics_parallel(song_artists):\n",
    "    start = time.perf_counter()\n",
    "\n",
    "    with Pool() as p:\n",
    "        genius_songs = p.starmap(get_lyrics, song_artists)\n",
    "\n",
    "    print(f\"{time.perf_counter()-start} seconds for {len(song_artists)} songs\")\n",
    "    \n",
    "    return genius_songs"
   ]
  },
  {
   "cell_type": "code",
   "execution_count": 10,
   "metadata": {},
   "outputs": [],
   "source": [
    "def print_num_with_lyrics(songs):\n",
    "    num_lyrics = 0\n",
    "    for i in range(len(songs)):\n",
    "        if songs[i] != None:\n",
    "            num_lyrics += 1\n",
    "    print(f\"{num_lyrics}/{len(songs)} songs have lyrics\")"
   ]
  },
  {
   "cell_type": "code",
   "execution_count": 11,
   "metadata": {},
   "outputs": [],
   "source": [
    "song_artists_sample = [\n",
    "    [\"The Magician\", \"Andy Shauf\"],\n",
    "    [\"Begin Again\", \"Andy Shauf\"],\n",
    "    [\"Martha Sways\", \"Andy Shauf\"],\n",
    "    [\"I Will\", \"The Beatles\"],\n",
    "    [\"90210\", \"Travis Scott\"],\n",
    "    [\"Soma\", \"The Strokes\"],\n",
    "    [\"Hey Jude\", \"The Beatles\"],\n",
    "    [\"Hey Bulldog\", \"The Beatles\"],\n",
    "    [\"Self Care\", \"Mac Miller\"],\n",
    "    [\"Machu Picchu\", \"The Strokes\"],\n",
    "    [\"Blue Boy\", \"Mac DeMarco\"],\n",
    "    [\"Dreams Via Memories\", \"Ceramic Animal\"],\n",
    "    [\"White Gloves\", \"Khruangbin\"],\n",
    "    [\"Down the Line\", \"Beach Fossils\"],\n",
    "    [\"Sleep Apnea\", \"Beach Fossils\"]\n",
    "]"
   ]
  },
  {
   "cell_type": "markdown",
   "metadata": {},
   "source": [
    "## SQLite"
   ]
  },
  {
   "cell_type": "code",
   "execution_count": 12,
   "metadata": {},
   "outputs": [],
   "source": [
    "# Create connection cursor\n",
    "connection = sqlite3.connect(\"../backend/spotify_table.db\")\n",
    "cursor = connection.cursor()"
   ]
  },
  {
   "cell_type": "code",
   "execution_count": 13,
   "metadata": {},
   "outputs": [
    {
     "data": {
      "text/plain": [
       "<sqlite3.Cursor at 0x7fa8b8480c70>"
      ]
     },
     "execution_count": 13,
     "metadata": {},
     "output_type": "execute_result"
    }
   ],
   "source": [
    "# Create lyrics table\n",
    "cursor.execute(\"DROP TABLE Lyrics\")\n",
    "cursor.execute(\"\"\"  CREATE TABLE Lyrics AS\n",
    "                        SELECT track_id\n",
    "                        FROM spotify_table; \"\"\")\n",
    "cursor.execute(\"\"\"  ALTER TABLE Lyrics\n",
    "                    ADD lyrics TEXT; \"\"\")"
   ]
  },
  {
   "cell_type": "code",
   "execution_count": 14,
   "metadata": {
    "scrolled": true
   },
   "outputs": [],
   "source": [
    "def query_unsearched_songs():\n",
    "    cursor.execute(\"\"\"  SELECT track_name, artist_name, track_id\n",
    "                        FROM spotify_table\n",
    "                            NATURAL JOIN Lyrics\n",
    "                        WHERE lyrics IS NULL\n",
    "                        LIMIT 25; \"\"\") # songs that we haven't searched lyrics for yet\n",
    "    song_artists = cursor.fetchall()\n",
    "#     for s_a in song_artists: print(s_a[0], s_a[1])\n",
    "    return song_artists"
   ]
  },
  {
   "cell_type": "code",
   "execution_count": 17,
   "metadata": {},
   "outputs": [],
   "source": [
    "def insert_lyrics(lyrics, track_ids):\n",
    "    cursor.executemany(\"\"\"  UPDATE Lyrics SET\n",
    "                                lyrics=?\n",
    "                            WHERE track_id=?; \"\"\",\n",
    "                       zip(lyrics, track_ids));"
   ]
  },
  {
   "cell_type": "markdown",
   "metadata": {},
   "source": [
    "## Main Loop"
   ]
  },
  {
   "cell_type": "code",
   "execution_count": 18,
   "metadata": {},
   "outputs": [
    {
     "name": "stdout",
     "output_type": "stream",
     "text": [
      "Searching for \"Don't Let Me Be Lonely Tonight\" by Joseph Williams...Searching for \"Perdu d'avance (par Gad Elmaleh)\" by Martin & les fées...Searching for \"C'est beau de faire un Show\" by Henri Salvador...\n",
      "\n",
      "\n",
      "Searching for \"Dis-moi Monsieur Gordon Cooper\" by Henri Salvador...\n",
      "No results found for: 'Perdu d'avance (par Gad Elmaleh) Martin & les fées'\n",
      "No results found for: 'C'est beau de faire un Show Henri Salvador'No results found for: 'Dis-moi Monsieur Gordon Cooper Henri Salvador'Searching for \"Ouverture\" by Fabien Nataf...\n",
      "\n",
      "\n",
      "Searching for \"Le petit souper aux chandelles\" by Henri Salvador...\n",
      "Searching for \"Premières recherches (par Paul Ventimila, Lorie Pester, Véronique Jannot, Michèle Laroque & Gérard Lenorman)\" by Martin & les fées...\n",
      "No results found for: 'Ouverture Fabien Nataf'\n",
      "Searching for \"Let Me Let Go\" by Laura Mayne...\n",
      "No results found for: 'Premières recherches (par Paul Ventimila, Lorie Pester, Véronique Jannot, Michèle Laroque & Gérard Lenorman) Martin & les fées'\n",
      "Searching for \"Helka\" by Chorus...\n",
      "Done.\n",
      "Searching for \"Les bisous des bisounours\" by Le Club des Juniors...\n",
      "Done.\n",
      "Done.\n",
      "Done.\n",
      "No results found for: 'Les bisous des bisounours Le Club des Juniors'\n",
      "4.002989329004777 seconds for 10 songs\n",
      "Searching for \"Symphony No.4 In E Minor Op.98 : IV. Allegro Energico E Passionato\" by Leopold Stokowski...Searching for \"The Hanging (Maverick - Original Motion Picture Score) - Remastered\" by Randy Newman...\n",
      "\n",
      "Searching for \"J'ai demandé à la lune\" by Idoles De La Musique...Searching for \"Mangala Aarti\" by Chorus...\n",
      "\n",
      "No results found for: 'Symphony No.4 In E Minor Op.98 : IV. Allegro Energico E Passionato Leopold Stokowski'\n",
      "No results found for: 'Mangala Aarti Chorus'No results found for: 'The Hanging (Maverick - Original Motion Picture Score) - Remastered Randy Newman'Searching for \"Keys of Love\" by Richard M. Sherman...\n",
      "Searching for \"Les aventures d'Arsène Lupin: 813 - Partie 6\" by Michel Roux...\n",
      "\n",
      "\n",
      "Searching for \"Diane\" by Jean Claude Corbel...\n",
      "Specified song does not contain lyrics. Rejecting.\n",
      "Searching for \"Ultra Man 80\" by Bernard Minet...\n",
      "No results found for: 'Les aventures d'Arsène Lupin: 813 - Partie 6 Michel Roux'\n",
      "Searching for \"Veunise\" by Henri Salvador...\n",
      "Done.\n",
      "Searching for \"Ladies And Gentlemen\" by Amalya...\n",
      "No results found for: 'Veunise Henri Salvador'\n",
      "Done.\n",
      "Done.\n",
      "Done.\n",
      "4.835445331998926 seconds for 10 songs\n",
      "Searching for \"Pourquoi aller plus loin ?\" by Jean Claude Corbel...Searching for \"Tout est possible (par Anggun, Dany Brillant, Garou, Gérard Lenorman, Julie Zenatti, Lisa Angell, Lorie Pester, Natasha St-Pier, Patrick Fiori, Paul Ventimila, Sara Carreira, Veronique Jannot & Vincent Niclo)\" by Martin & les fées...\n",
      "\n",
      "Searching for \"Monsieur Boum Boum\" by Henri Salvador...\n",
      "Searching for \"Clic clac cloc\" by Dorothée...\n",
      "No results found for: 'Monsieur Boum Boum Henri Salvador'No results found for: 'Tout est possible (par Anggun, Dany Brillant, Garou, Gérard Lenorman, Julie Zenatti, Lisa Angell, Lorie Pester, Natasha St-Pier, Patrick Fiori, Paul Ventimila, Sara Carreira, Veronique Jannot & Vincent Niclo) Martin & les fées'\n",
      "Searching for \"Quand je monte chez toi\" by Henri Salvador...\n",
      "\n",
      "Searching for \"Comme minuit sonnait\" by Jean Piat...\n",
      "Done.\n",
      "Searching for \"Le Fêtard\" by Henri Salvador...\n",
      "Done.\n",
      "Searching for \"Le mariage des poupées\" by Lucie Dolene...\n",
      "Done.\n",
      "Searching for \"Une chanson douce\" by Henri Salvador...\n",
      "Done.\n",
      "Searching for \"Mangani – Do Banjare / Amba Heth\" by Chorus...\n",
      "No results found for: 'Mangani – Do Banjare / Amba Heth Chorus'\n",
      "Done.\n",
      "Done.\n",
      "Done.\n",
      "5.160562347999075 seconds for 10 songs\n",
      "Searching for \"Une journée d'école qui s'achève (par Véronique Jannot)\" by Martin & les fées...Searching for \"A ty się śmiejesz ze mnie\" by Chorus...\n",
      "\n",
      "Searching for \"C Est Le Be Bop\" by Henri Salvador...Searching for \"La Samba De Là-Bas\" by Henri Salvador...\n",
      "\n",
      "No results found for: 'La Samba De Là-Bas Henri Salvador'No results found for: 'Une journée d'école qui s'achève (par Véronique Jannot) Martin & les fées'\n",
      "\n",
      "Searching for \"Silence on tourne\" by Henri Salvador...\n",
      "Searching for \"Ambarsare Diyan Warhiyan\" by Chorus...\n",
      "No results found for: 'Ambarsare Diyan Warhiyan Chorus'\n",
      "Searching for \"For the Game\" by Chorus...\n",
      "Done.\n",
      "Searching for \"Quand un artiste - live\" by Henri Salvador...\n",
      "Done.\n",
      "Searching for \"Afterglow\" by Richard M. Sherman...\n",
      "Done.\n",
      "Searching for \"Sailing, Sailing\" by Larry Groce...\n",
      "No results found for: 'Quand un artiste - live Henri Salvador'\n",
      "No results found for: 'Afterglow Richard M. Sherman'\n",
      "Done.\n",
      "Done.\n",
      "5.576875127997482 seconds for 10 songs\n"
     ]
    }
   ],
   "source": [
    "songs = [\"trash\"]\n",
    "while songs:\n",
    "    songs = query_unsearched_songs()\n",
    "    track_names, artist_names, track_ids = zip(*songs)\n",
    "    g_songs = get_lyrics_parallel(list(zip(track_names, artist_names)))\n",
    "    lyrics = [g_song.lyrics if g_song!=None else \"\" for g_song in g_songs]\n",
    "    insert_lyrics(lyrics, track_ids)\n",
    "    connection.commit()"
   ]
  },
  {
   "cell_type": "code",
   "execution_count": 21,
   "metadata": {},
   "outputs": [
    {
     "name": "stdout",
     "output_type": "stream",
     "text": [
      "Don't Let Me Be Lonely Tonight Joseph Williams\n",
      "Le petit souper aux chandelles Henri Salvador\n",
      "Let Me Let Go Laura Mayne\n",
      "Helka Chorus\n",
      "J'ai demandé à la lune Idoles De La Musique\n",
      "Diane Jean Claude Corbel\n",
      "Ultra Man 80 Bernard Minet\n",
      "Ladies And Gentlemen Amalya\n",
      "Clic clac cloc Dorothée\n",
      "Pourquoi aller plus loin ? Jean Claude Corbel\n",
      "Quand je monte chez toi Henri Salvador\n",
      "Comme minuit sonnait Jean Piat\n",
      "Le Fêtard Henri Salvador\n",
      "Le mariage des poupées Lucie Dolene\n",
      "Une chanson douce Henri Salvador\n",
      "A ty się śmiejesz ze mnie Chorus\n",
      "C Est Le Be Bop Henri Salvador\n",
      "Silence on tourne Henri Salvador\n",
      "For the Game Chorus\n",
      "Sailing, Sailing Larry Groce\n",
      "20\n"
     ]
    }
   ],
   "source": [
    "# cursor.execute(\"\"\"  SELECT track_name, artist_name\n",
    "#                     FROM spotify_table\n",
    "#                         NATURAL JOIN Lyrics\n",
    "#                     WHERE lyrics IS NOT NULL\n",
    "#                         AND lyrics<>''; \"\"\")\n",
    "# foo = cursor.fetchall()\n",
    "# print(len(foo))"
   ]
  },
  {
   "cell_type": "code",
   "execution_count": 23,
   "metadata": {},
   "outputs": [],
   "source": [
    "connection.close()"
   ]
  },
  {
   "cell_type": "code",
   "execution_count": null,
   "metadata": {},
   "outputs": [],
   "source": []
  }
 ],
 "metadata": {
  "kernelspec": {
   "display_name": "Python 3",
   "language": "python",
   "name": "python3"
  },
  "language_info": {
   "codemirror_mode": {
    "name": "ipython",
    "version": 3
   },
   "file_extension": ".py",
   "mimetype": "text/x-python",
   "name": "python",
   "nbconvert_exporter": "python",
   "pygments_lexer": "ipython3",
   "version": "3.8.5"
  }
 },
 "nbformat": 4,
 "nbformat_minor": 4
}
