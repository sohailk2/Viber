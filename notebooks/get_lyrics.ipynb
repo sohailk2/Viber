{
 "cells": [
  {
   "cell_type": "code",
   "execution_count": 1,
   "metadata": {},
   "outputs": [],
   "source": [
    "import lyricsgenius\n",
    "from multiprocessing import current_process, Pool\n",
    "import time\n",
    "import sqlite3"
   ]
  },
  {
   "cell_type": "markdown",
   "metadata": {},
   "source": [
    "Set up Genius APIs with tokens"
   ]
  },
  {
   "cell_type": "code",
   "execution_count": 2,
   "metadata": {},
   "outputs": [],
   "source": [
    "genius_tokens = [\n",
    "    \"tETKVL7G-wtix9PAAPxsDeW-j8sS1D4L-zyWei7n1Xq1WUh9VuwFLHAXlBP5X5zq\",\n",
    "    \"6rUGP-maK090aBdaNi1Z0qm2CtFDoIyteABaTh441aYc4eKHyKYPv5Q8luozmFC0\",\n",
    "    \"whDHSeFHAeKA9f3mEt63XMBJVBBp-OO-01qRzn4mu8L1pQoI5hFywcm5MK2DkxgV\",\n",
    "    \"Cj82uimfARNlK36SjqkeXAqpqoWdACXWwm1kIRHzYLAbkUiHYcvNqfj9Iq99J8iR\"\n",
    "]\n",
    "genius_apis = []\n",
    "for token in genius_tokens:\n",
    "    genius_apis.append(lyricsgenius.Genius(token))"
   ]
  },
  {
   "cell_type": "code",
   "execution_count": 3,
   "metadata": {},
   "outputs": [],
   "source": [
    "def get_lyrics(song, artist):\n",
    "    try:\n",
    "        proc = current_process()._identity[0]\n",
    "    except:\n",
    "        proc = 0\n",
    "        \n",
    "    return genius_apis[proc%len(genius_tokens)].search_song(song, artist)"
   ]
  },
  {
   "cell_type": "markdown",
   "metadata": {},
   "source": [
    "Sample songs"
   ]
  },
  {
   "cell_type": "code",
   "execution_count": 4,
   "metadata": {},
   "outputs": [],
   "source": [
    "offset = 0\n",
    "song_names = [\n",
    "    [\"The Magician\", \"Andy Shauf\"],\n",
    "    [\"Begin Again\", \"Andy Shauf\"],\n",
    "    [\"Martha Sways\", \"Andy Shauf\"],\n",
    "    [\"I Will\", \"The Beatles\"],\n",
    "    [\"90210\", \"Travis Scott\"],\n",
    "    [\"Soma\", \"The Strokes\"],\n",
    "    [\"Hey Jude\", \"The Beatles\"],\n",
    "    [\"Hey Bulldog\", \"The Beatles\"],\n",
    "    [\"Self Care\", \"Mac Miller\"],\n",
    "    [\"Machu Picchu\", \"The Strokes\"],\n",
    "    [\"Blue Boy\", \"Mac DeMarco\"],\n",
    "    [\"Dreams Via Memories\", \"Ceramic Animal\"],\n",
    "    [\"White Gloves\", \"Khruangbin\"],\n",
    "    [\"Down the Line\", \"Beach Fossils\"],\n",
    "    [\"Sleep Apnea\", \"Beach Fossils\"]\n",
    "]"
   ]
  },
  {
   "cell_type": "markdown",
   "metadata": {},
   "source": [
    "Serial lyric gathering"
   ]
  },
  {
   "cell_type": "code",
   "execution_count": 5,
   "metadata": {},
   "outputs": [
    {
     "name": "stdout",
     "output_type": "stream",
     "text": [
      "Searching for \"The Magician\" by Andy Shauf...\n",
      "Done.\n",
      "Searching for \"Begin Again\" by Andy Shauf...\n",
      "Done.\n",
      "Searching for \"Martha Sways\" by Andy Shauf...\n",
      "Done.\n",
      "Searching for \"I Will\" by The Beatles...\n",
      "Done.\n",
      "Searching for \"90210\" by Travis Scott...\n",
      "Done.\n",
      "Searching for \"Soma\" by The Strokes...\n",
      "Done.\n",
      "Searching for \"Hey Jude\" by The Beatles...\n",
      "Done.\n",
      "Searching for \"Hey Bulldog\" by The Beatles...\n",
      "Done.\n",
      "Searching for \"Self Care\" by Mac Miller...\n",
      "Done.\n",
      "Searching for \"Machu Picchu\" by The Strokes...\n",
      "Done.\n",
      "Searching for \"Blue Boy\" by Mac DeMarco...\n",
      "Done.\n",
      "Searching for \"Dreams Via Memories\" by Ceramic Animal...\n",
      "Done.\n",
      "Searching for \"White Gloves\" by Khruangbin...\n",
      "Done.\n",
      "Searching for \"Down the Line\" by Beach Fossils...\n",
      "Done.\n",
      "Searching for \"Sleep Apnea\" by Beach Fossils...\n",
      "Done.\n",
      "[('The Magician', 'Andy Shauf'), ('Begin Again', 'Andy Shauf'), ('Martha Sways', 'Andy Shauf'), ('I Will', 'The Beatles'), ('90210', 'Travis Scott'), ('Soma', 'The Strokes'), ('Hey Jude', 'The Beatles'), ('Hey Bulldog', 'The Beatles'), ('Self Care', 'Mac Miller'), ('Machu Picchu', 'The Strokes'), ('Blue Boy', 'Mac DeMarco'), ('Dreams Via Memories', 'Ceramic Animal'), ('White Gloves', 'Khruangbin'), ('Down the Line', 'Beach Fossils'), ('Sleep Apnea', 'Beach Fossils')]\n",
      "27.33424396600458  seconds for  15  songs\n"
     ]
    }
   ],
   "source": [
    "start = time.perf_counter()\n",
    "\n",
    "songs = []\n",
    "for song_name in song_names:\n",
    "    songs.append(get_lyrics(song_name[0], song_name[1]))\n",
    "print(songs)\n",
    "\n",
    "print(time.perf_counter() - start, \" seconds for \", len(song_names), \" songs\")"
   ]
  },
  {
   "cell_type": "markdown",
   "metadata": {},
   "source": [
    "Parallel lyric gathering"
   ]
  },
  {
   "cell_type": "code",
   "execution_count": 6,
   "metadata": {},
   "outputs": [
    {
     "name": "stdout",
     "output_type": "stream",
     "text": [
      "Searching for \"Begin Again\" by Andy Shauf...Searching for \"The Magician\" by Andy Shauf...\n",
      "\n",
      "Searching for \"I Will\" by The Beatles...Searching for \"Martha Sways\" by Andy Shauf...\n",
      "\n",
      "Searching for \"90210\" by Travis Scott...Searching for \"Hey Jude\" by The Beatles...Searching for \"Soma\" by The Strokes...Searching for \"Hey Bulldog\" by The Beatles...\n",
      "\n",
      "\n",
      "\n",
      "Searching for \"Machu Picchu\" by The Strokes...Searching for \"Self Care\" by Mac Miller...\n",
      "Searching for \"Blue Boy\" by Mac DeMarco...\n",
      "\n",
      "Searching for \"Dreams Via Memories\" by Ceramic Animal...\n",
      "Searching for \"White Gloves\" by Khruangbin...\n",
      "Searching for \"Down the Line\" by Beach Fossils...\n",
      "Searching for \"Sleep Apnea\" by Beach Fossils...\n"
     ]
    },
    {
     "ename": "SSLError",
     "evalue": "None: Max retries exceeded with url: /api/search/multi?q=The+Magician+Andy+Shauf (Caused by None)",
     "output_type": "error",
     "traceback": [
      "\u001b[0;31m---------------------------------------------------------------------------\u001b[0m",
      "\u001b[0;31mRemoteTraceback\u001b[0m                           Traceback (most recent call last)",
      "\u001b[0;31mRemoteTraceback\u001b[0m: \n\"\"\"\nTraceback (most recent call last):\n  File \"/home/mesa/anaconda3/lib/python3.8/site-packages/urllib3/connectionpool.py\", line 670, in urlopen\n    httplib_response = self._make_request(\n  File \"/home/mesa/anaconda3/lib/python3.8/site-packages/urllib3/connectionpool.py\", line 426, in _make_request\n    six.raise_from(e, None)\n  File \"<string>\", line 3, in raise_from\n  File \"/home/mesa/anaconda3/lib/python3.8/site-packages/urllib3/connectionpool.py\", line 421, in _make_request\n    httplib_response = conn.getresponse()\n  File \"/home/mesa/anaconda3/lib/python3.8/http/client.py\", line 1347, in getresponse\n    response.begin()\n  File \"/home/mesa/anaconda3/lib/python3.8/http/client.py\", line 307, in begin\n    version, status, reason = self._read_status()\n  File \"/home/mesa/anaconda3/lib/python3.8/http/client.py\", line 268, in _read_status\n    line = str(self.fp.readline(_MAXLINE + 1), \"iso-8859-1\")\n  File \"/home/mesa/anaconda3/lib/python3.8/socket.py\", line 669, in readinto\n    return self._sock.recv_into(b)\n  File \"/home/mesa/anaconda3/lib/python3.8/ssl.py\", line 1241, in recv_into\n    return self.read(nbytes, buffer)\n  File \"/home/mesa/anaconda3/lib/python3.8/ssl.py\", line 1099, in read\n    return self._sslobj.read(len, buffer)\nssl.SSLError: [SSL: WRONG_VERSION_NUMBER] wrong version number (_ssl.c:2622)\n\nDuring handling of the above exception, another exception occurred:\n\nTraceback (most recent call last):\n  File \"/home/mesa/anaconda3/lib/python3.8/site-packages/requests/adapters.py\", line 439, in send\n    resp = conn.urlopen(\n  File \"/home/mesa/anaconda3/lib/python3.8/site-packages/urllib3/connectionpool.py\", line 726, in urlopen\n    retries = retries.increment(\n  File \"/home/mesa/anaconda3/lib/python3.8/site-packages/urllib3/util/retry.py\", line 446, in increment\n    raise MaxRetryError(_pool, url, error or ResponseError(cause))\nurllib3.exceptions.MaxRetryError: HTTPSConnectionPool(host='genius.com', port=443): Max retries exceeded with url: /api/search/multi?q=The+Magician+Andy+Shauf (Caused by SSLError(SSLError(1, '[SSL: WRONG_VERSION_NUMBER] wrong version number (_ssl.c:2622)')))\n\nDuring handling of the above exception, another exception occurred:\n\nTraceback (most recent call last):\n  File \"/home/mesa/anaconda3/lib/python3.8/multiprocessing/pool.py\", line 125, in worker\n    result = (True, func(*args, **kwds))\n  File \"/home/mesa/anaconda3/lib/python3.8/multiprocessing/pool.py\", line 51, in starmapstar\n    return list(itertools.starmap(args[0], args[1]))\n  File \"<ipython-input-3-b8a6498a9d2f>\", line 8, in get_lyrics\n    return genius_apis[proc%NUM_PROCESSES].search_song(song, artist)\n  File \"/home/mesa/anaconda3/lib/python3.8/site-packages/lyricsgenius/genius.py\", line 474, in search_song\n    response = self.search_all(search_term)\n  File \"/home/mesa/anaconda3/lib/python3.8/site-packages/lyricsgenius/api/public_methods/search.py\", line 209, in search_all\n    return self.search(search_term, per_page, page, endpoint)\n  File \"/home/mesa/anaconda3/lib/python3.8/site-packages/lyricsgenius/api/public_methods/search.py\", line 45, in search\n    return self._make_request(path, params_=params, public_api=True)\n  File \"/home/mesa/anaconda3/lib/python3.8/site-packages/lyricsgenius/api/base.py\", line 45, in _make_request\n    response = self._session.request(method, uri,\n  File \"/home/mesa/anaconda3/lib/python3.8/site-packages/requests/sessions.py\", line 530, in request\n    resp = self.send(prep, **send_kwargs)\n  File \"/home/mesa/anaconda3/lib/python3.8/site-packages/requests/sessions.py\", line 643, in send\n    r = adapter.send(request, **kwargs)\n  File \"/home/mesa/anaconda3/lib/python3.8/site-packages/requests/adapters.py\", line 514, in send\n    raise SSLError(e, request=request)\nrequests.exceptions.SSLError: HTTPSConnectionPool(host='genius.com', port=443): Max retries exceeded with url: /api/search/multi?q=The+Magician+Andy+Shauf (Caused by SSLError(SSLError(1, '[SSL: WRONG_VERSION_NUMBER] wrong version number (_ssl.c:2622)')))\n\"\"\"",
      "\nThe above exception was the direct cause of the following exception:\n",
      "\u001b[0;31mSSLError\u001b[0m                                  Traceback (most recent call last)",
      "\u001b[0;32m<ipython-input-6-39462ffe8638>\u001b[0m in \u001b[0;36m<module>\u001b[0;34m\u001b[0m\n\u001b[1;32m      2\u001b[0m \u001b[0;34m\u001b[0m\u001b[0m\n\u001b[1;32m      3\u001b[0m \u001b[0;32mwith\u001b[0m \u001b[0mPool\u001b[0m\u001b[0;34m(\u001b[0m\u001b[0;34m)\u001b[0m \u001b[0;32mas\u001b[0m \u001b[0mp\u001b[0m\u001b[0;34m:\u001b[0m\u001b[0;34m\u001b[0m\u001b[0;34m\u001b[0m\u001b[0m\n\u001b[0;32m----> 4\u001b[0;31m     \u001b[0msongs\u001b[0m \u001b[0;34m=\u001b[0m \u001b[0mp\u001b[0m\u001b[0;34m.\u001b[0m\u001b[0mstarmap\u001b[0m\u001b[0;34m(\u001b[0m\u001b[0mget_lyrics\u001b[0m\u001b[0;34m,\u001b[0m \u001b[0msong_names\u001b[0m\u001b[0;34m)\u001b[0m\u001b[0;34m\u001b[0m\u001b[0;34m\u001b[0m\u001b[0m\n\u001b[0m\u001b[1;32m      5\u001b[0m \u001b[0mprint\u001b[0m\u001b[0;34m(\u001b[0m\u001b[0msongs\u001b[0m\u001b[0;34m)\u001b[0m\u001b[0;34m\u001b[0m\u001b[0;34m\u001b[0m\u001b[0m\n\u001b[1;32m      6\u001b[0m \u001b[0;34m\u001b[0m\u001b[0m\n",
      "\u001b[0;32m~/anaconda3/lib/python3.8/multiprocessing/pool.py\u001b[0m in \u001b[0;36mstarmap\u001b[0;34m(self, func, iterable, chunksize)\u001b[0m\n\u001b[1;32m    370\u001b[0m         \u001b[0;31m`\u001b[0m\u001b[0mfunc\u001b[0m\u001b[0;31m`\u001b[0m \u001b[0;32mand\u001b[0m \u001b[0;34m(\u001b[0m\u001b[0ma\u001b[0m\u001b[0;34m,\u001b[0m \u001b[0mb\u001b[0m\u001b[0;34m)\u001b[0m \u001b[0mbecomes\u001b[0m \u001b[0mfunc\u001b[0m\u001b[0;34m(\u001b[0m\u001b[0ma\u001b[0m\u001b[0;34m,\u001b[0m \u001b[0mb\u001b[0m\u001b[0;34m)\u001b[0m\u001b[0;34m.\u001b[0m\u001b[0;34m\u001b[0m\u001b[0;34m\u001b[0m\u001b[0m\n\u001b[1;32m    371\u001b[0m         '''\n\u001b[0;32m--> 372\u001b[0;31m         \u001b[0;32mreturn\u001b[0m \u001b[0mself\u001b[0m\u001b[0;34m.\u001b[0m\u001b[0m_map_async\u001b[0m\u001b[0;34m(\u001b[0m\u001b[0mfunc\u001b[0m\u001b[0;34m,\u001b[0m \u001b[0miterable\u001b[0m\u001b[0;34m,\u001b[0m \u001b[0mstarmapstar\u001b[0m\u001b[0;34m,\u001b[0m \u001b[0mchunksize\u001b[0m\u001b[0;34m)\u001b[0m\u001b[0;34m.\u001b[0m\u001b[0mget\u001b[0m\u001b[0;34m(\u001b[0m\u001b[0;34m)\u001b[0m\u001b[0;34m\u001b[0m\u001b[0;34m\u001b[0m\u001b[0m\n\u001b[0m\u001b[1;32m    373\u001b[0m \u001b[0;34m\u001b[0m\u001b[0m\n\u001b[1;32m    374\u001b[0m     def starmap_async(self, func, iterable, chunksize=None, callback=None,\n",
      "\u001b[0;32m~/anaconda3/lib/python3.8/multiprocessing/pool.py\u001b[0m in \u001b[0;36mget\u001b[0;34m(self, timeout)\u001b[0m\n\u001b[1;32m    769\u001b[0m             \u001b[0;32mreturn\u001b[0m \u001b[0mself\u001b[0m\u001b[0;34m.\u001b[0m\u001b[0m_value\u001b[0m\u001b[0;34m\u001b[0m\u001b[0;34m\u001b[0m\u001b[0m\n\u001b[1;32m    770\u001b[0m         \u001b[0;32melse\u001b[0m\u001b[0;34m:\u001b[0m\u001b[0;34m\u001b[0m\u001b[0;34m\u001b[0m\u001b[0m\n\u001b[0;32m--> 771\u001b[0;31m             \u001b[0;32mraise\u001b[0m \u001b[0mself\u001b[0m\u001b[0;34m.\u001b[0m\u001b[0m_value\u001b[0m\u001b[0;34m\u001b[0m\u001b[0;34m\u001b[0m\u001b[0m\n\u001b[0m\u001b[1;32m    772\u001b[0m \u001b[0;34m\u001b[0m\u001b[0m\n\u001b[1;32m    773\u001b[0m     \u001b[0;32mdef\u001b[0m \u001b[0m_set\u001b[0m\u001b[0;34m(\u001b[0m\u001b[0mself\u001b[0m\u001b[0;34m,\u001b[0m \u001b[0mi\u001b[0m\u001b[0;34m,\u001b[0m \u001b[0mobj\u001b[0m\u001b[0;34m)\u001b[0m\u001b[0;34m:\u001b[0m\u001b[0;34m\u001b[0m\u001b[0;34m\u001b[0m\u001b[0m\n",
      "\u001b[0;31mSSLError\u001b[0m: None: Max retries exceeded with url: /api/search/multi?q=The+Magician+Andy+Shauf (Caused by None)"
     ]
    }
   ],
   "source": [
    "start = time.perf_counter()\n",
    "\n",
    "with Pool() as p:\n",
    "    songs = p.starmap(get_lyrics, song_names)\n",
    "print(songs)\n",
    "\n",
    "print(time.perf_counter() - start, \" seconds for \", len(song_names), \" songs\")"
   ]
  },
  {
   "cell_type": "code",
   "execution_count": null,
   "metadata": {},
   "outputs": [],
   "source": [
    "for song in songs:\n",
    "    print(song.lyrics)"
   ]
  },
  {
   "cell_type": "code",
   "execution_count": null,
   "metadata": {},
   "outputs": [],
   "source": []
  }
 ],
 "metadata": {
  "kernelspec": {
   "display_name": "Python 3",
   "language": "python",
   "name": "python3"
  },
  "language_info": {
   "codemirror_mode": {
    "name": "ipython",
    "version": 3
   },
   "file_extension": ".py",
   "mimetype": "text/x-python",
   "name": "python",
   "nbconvert_exporter": "python",
   "pygments_lexer": "ipython3",
   "version": "3.8.5"
  }
 },
 "nbformat": 4,
 "nbformat_minor": 4
}
