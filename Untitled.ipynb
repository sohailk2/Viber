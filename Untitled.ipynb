{
 "cells": [
  {
   "cell_type": "code",
   "execution_count": 49,
   "metadata": {},
   "outputs": [],
   "source": [
    "import pandas as pd\n",
    "import itertools"
   ]
  },
  {
   "cell_type": "code",
   "execution_count": 2,
   "metadata": {},
   "outputs": [],
   "source": [
    "df = pd.read_csv(\"the_grammy_awards.csv\")"
   ]
  },
  {
   "cell_type": "code",
   "execution_count": 4,
   "metadata": {},
   "outputs": [
    {
     "data": {
      "text/html": [
       "<div>\n",
       "<style scoped>\n",
       "    .dataframe tbody tr th:only-of-type {\n",
       "        vertical-align: middle;\n",
       "    }\n",
       "\n",
       "    .dataframe tbody tr th {\n",
       "        vertical-align: top;\n",
       "    }\n",
       "\n",
       "    .dataframe thead th {\n",
       "        text-align: right;\n",
       "    }\n",
       "</style>\n",
       "<table border=\"1\" class=\"dataframe\">\n",
       "  <thead>\n",
       "    <tr style=\"text-align: right;\">\n",
       "      <th></th>\n",
       "      <th>year</th>\n",
       "      <th>title</th>\n",
       "      <th>published_at</th>\n",
       "      <th>updated_at</th>\n",
       "      <th>category</th>\n",
       "      <th>nominee</th>\n",
       "      <th>artist</th>\n",
       "      <th>workers</th>\n",
       "      <th>img</th>\n",
       "      <th>winner</th>\n",
       "    </tr>\n",
       "  </thead>\n",
       "  <tbody>\n",
       "    <tr>\n",
       "      <th>0</th>\n",
       "      <td>2019</td>\n",
       "      <td>62nd Annual GRAMMY Awards  (2019)</td>\n",
       "      <td>2020-05-19T05:10:28-07:00</td>\n",
       "      <td>2020-05-19T05:10:28-07:00</td>\n",
       "      <td>Record Of The Year</td>\n",
       "      <td>Bad Guy</td>\n",
       "      <td>Billie Eilish</td>\n",
       "      <td>Finneas O'Connell, producer; Rob Kinelski &amp; Fi...</td>\n",
       "      <td>https://www.grammy.com/sites/com/files/styles/...</td>\n",
       "      <td>True</td>\n",
       "    </tr>\n",
       "    <tr>\n",
       "      <th>1</th>\n",
       "      <td>2019</td>\n",
       "      <td>62nd Annual GRAMMY Awards  (2019)</td>\n",
       "      <td>2020-05-19T05:10:28-07:00</td>\n",
       "      <td>2020-05-19T05:10:28-07:00</td>\n",
       "      <td>Record Of The Year</td>\n",
       "      <td>Hey, Ma</td>\n",
       "      <td>Bon Iver</td>\n",
       "      <td>BJ Burton, Brad Cook, Chris Messina &amp; Justin V...</td>\n",
       "      <td>https://www.grammy.com/sites/com/files/styles/...</td>\n",
       "      <td>True</td>\n",
       "    </tr>\n",
       "    <tr>\n",
       "      <th>2</th>\n",
       "      <td>2019</td>\n",
       "      <td>62nd Annual GRAMMY Awards  (2019)</td>\n",
       "      <td>2020-05-19T05:10:28-07:00</td>\n",
       "      <td>2020-05-19T05:10:28-07:00</td>\n",
       "      <td>Record Of The Year</td>\n",
       "      <td>7 rings</td>\n",
       "      <td>Ariana Grande</td>\n",
       "      <td>Charles Anderson, Tommy Brown, Michael Foster ...</td>\n",
       "      <td>https://www.grammy.com/sites/com/files/styles/...</td>\n",
       "      <td>True</td>\n",
       "    </tr>\n",
       "    <tr>\n",
       "      <th>3</th>\n",
       "      <td>2019</td>\n",
       "      <td>62nd Annual GRAMMY Awards  (2019)</td>\n",
       "      <td>2020-05-19T05:10:28-07:00</td>\n",
       "      <td>2020-05-19T05:10:28-07:00</td>\n",
       "      <td>Record Of The Year</td>\n",
       "      <td>Hard Place</td>\n",
       "      <td>H.E.R.</td>\n",
       "      <td>Rodney “Darkchild” Jerkins, producer; Joseph H...</td>\n",
       "      <td>https://www.grammy.com/sites/com/files/styles/...</td>\n",
       "      <td>True</td>\n",
       "    </tr>\n",
       "    <tr>\n",
       "      <th>4</th>\n",
       "      <td>2019</td>\n",
       "      <td>62nd Annual GRAMMY Awards  (2019)</td>\n",
       "      <td>2020-05-19T05:10:28-07:00</td>\n",
       "      <td>2020-05-19T05:10:28-07:00</td>\n",
       "      <td>Record Of The Year</td>\n",
       "      <td>Talk</td>\n",
       "      <td>Khalid</td>\n",
       "      <td>Disclosure &amp; Denis Kosiak, producers; Ingmar C...</td>\n",
       "      <td>https://www.grammy.com/sites/com/files/styles/...</td>\n",
       "      <td>True</td>\n",
       "    </tr>\n",
       "  </tbody>\n",
       "</table>\n",
       "</div>"
      ],
      "text/plain": [
       "   year                              title               published_at  \\\n",
       "0  2019  62nd Annual GRAMMY Awards  (2019)  2020-05-19T05:10:28-07:00   \n",
       "1  2019  62nd Annual GRAMMY Awards  (2019)  2020-05-19T05:10:28-07:00   \n",
       "2  2019  62nd Annual GRAMMY Awards  (2019)  2020-05-19T05:10:28-07:00   \n",
       "3  2019  62nd Annual GRAMMY Awards  (2019)  2020-05-19T05:10:28-07:00   \n",
       "4  2019  62nd Annual GRAMMY Awards  (2019)  2020-05-19T05:10:28-07:00   \n",
       "\n",
       "                  updated_at            category     nominee         artist  \\\n",
       "0  2020-05-19T05:10:28-07:00  Record Of The Year     Bad Guy  Billie Eilish   \n",
       "1  2020-05-19T05:10:28-07:00  Record Of The Year     Hey, Ma       Bon Iver   \n",
       "2  2020-05-19T05:10:28-07:00  Record Of The Year     7 rings  Ariana Grande   \n",
       "3  2020-05-19T05:10:28-07:00  Record Of The Year  Hard Place         H.E.R.   \n",
       "4  2020-05-19T05:10:28-07:00  Record Of The Year        Talk         Khalid   \n",
       "\n",
       "                                             workers  \\\n",
       "0  Finneas O'Connell, producer; Rob Kinelski & Fi...   \n",
       "1  BJ Burton, Brad Cook, Chris Messina & Justin V...   \n",
       "2  Charles Anderson, Tommy Brown, Michael Foster ...   \n",
       "3  Rodney “Darkchild” Jerkins, producer; Joseph H...   \n",
       "4  Disclosure & Denis Kosiak, producers; Ingmar C...   \n",
       "\n",
       "                                                 img  winner  \n",
       "0  https://www.grammy.com/sites/com/files/styles/...    True  \n",
       "1  https://www.grammy.com/sites/com/files/styles/...    True  \n",
       "2  https://www.grammy.com/sites/com/files/styles/...    True  \n",
       "3  https://www.grammy.com/sites/com/files/styles/...    True  \n",
       "4  https://www.grammy.com/sites/com/files/styles/...    True  "
      ]
     },
     "execution_count": 4,
     "metadata": {},
     "output_type": "execute_result"
    }
   ],
   "source": [
    "df.head()"
   ]
  },
  {
   "cell_type": "code",
   "execution_count": 14,
   "metadata": {},
   "outputs": [
    {
     "ename": "SyntaxError",
     "evalue": "invalid syntax (<ipython-input-14-6f067bf0665e>, line 1)",
     "output_type": "error",
     "traceback": [
      "\u001b[0;36m  File \u001b[0;32m\"<ipython-input-14-6f067bf0665e>\"\u001b[0;36m, line \u001b[0;32m1\u001b[0m\n\u001b[0;31m    grouped_df = df.groupby([\"nominee\", \"artist\"]).apply(list))\u001b[0m\n\u001b[0m                                                              ^\u001b[0m\n\u001b[0;31mSyntaxError\u001b[0m\u001b[0;31m:\u001b[0m invalid syntax\n"
     ]
    }
   ],
   "source": [
    "grouped_df = df.groupby([\"nominee\", \"artist\"]).apply(list)"
   ]
  },
  {
   "cell_type": "code",
   "execution_count": 9,
   "metadata": {},
   "outputs": [
    {
     "data": {
      "text/html": [
       "<div>\n",
       "<style scoped>\n",
       "    .dataframe tbody tr th:only-of-type {\n",
       "        vertical-align: middle;\n",
       "    }\n",
       "\n",
       "    .dataframe tbody tr th {\n",
       "        vertical-align: top;\n",
       "    }\n",
       "\n",
       "    .dataframe thead th {\n",
       "        text-align: right;\n",
       "    }\n",
       "</style>\n",
       "<table border=\"1\" class=\"dataframe\">\n",
       "  <thead>\n",
       "    <tr style=\"text-align: right;\">\n",
       "      <th></th>\n",
       "      <th>year</th>\n",
       "      <th>title</th>\n",
       "      <th>published_at</th>\n",
       "      <th>updated_at</th>\n",
       "      <th>category</th>\n",
       "      <th>nominee</th>\n",
       "      <th>artist</th>\n",
       "      <th>workers</th>\n",
       "      <th>img</th>\n",
       "      <th>winner</th>\n",
       "    </tr>\n",
       "  </thead>\n",
       "  <tbody>\n",
       "    <tr>\n",
       "      <th>0</th>\n",
       "      <td>2019</td>\n",
       "      <td>62nd Annual GRAMMY Awards  (2019)</td>\n",
       "      <td>2020-05-19T05:10:28-07:00</td>\n",
       "      <td>2020-05-19T05:10:28-07:00</td>\n",
       "      <td>Record Of The Year</td>\n",
       "      <td>Bad Guy</td>\n",
       "      <td>Billie Eilish</td>\n",
       "      <td>Finneas O'Connell, producer; Rob Kinelski &amp; Fi...</td>\n",
       "      <td>https://www.grammy.com/sites/com/files/styles/...</td>\n",
       "      <td>True</td>\n",
       "    </tr>\n",
       "    <tr>\n",
       "      <th>1</th>\n",
       "      <td>2019</td>\n",
       "      <td>62nd Annual GRAMMY Awards  (2019)</td>\n",
       "      <td>2020-05-19T05:10:28-07:00</td>\n",
       "      <td>2020-05-19T05:10:28-07:00</td>\n",
       "      <td>Record Of The Year</td>\n",
       "      <td>Hey, Ma</td>\n",
       "      <td>Bon Iver</td>\n",
       "      <td>BJ Burton, Brad Cook, Chris Messina &amp; Justin V...</td>\n",
       "      <td>https://www.grammy.com/sites/com/files/styles/...</td>\n",
       "      <td>True</td>\n",
       "    </tr>\n",
       "  </tbody>\n",
       "</table>\n",
       "</div>"
      ],
      "text/plain": [
       "   year                              title               published_at  \\\n",
       "0  2019  62nd Annual GRAMMY Awards  (2019)  2020-05-19T05:10:28-07:00   \n",
       "1  2019  62nd Annual GRAMMY Awards  (2019)  2020-05-19T05:10:28-07:00   \n",
       "\n",
       "                  updated_at            category  nominee         artist  \\\n",
       "0  2020-05-19T05:10:28-07:00  Record Of The Year  Bad Guy  Billie Eilish   \n",
       "1  2020-05-19T05:10:28-07:00  Record Of The Year  Hey, Ma       Bon Iver   \n",
       "\n",
       "                                             workers  \\\n",
       "0  Finneas O'Connell, producer; Rob Kinelski & Fi...   \n",
       "1  BJ Burton, Brad Cook, Chris Messina & Justin V...   \n",
       "\n",
       "                                                 img  winner  \n",
       "0  https://www.grammy.com/sites/com/files/styles/...    True  \n",
       "1  https://www.grammy.com/sites/com/files/styles/...    True  "
      ]
     },
     "execution_count": 9,
     "metadata": {},
     "output_type": "execute_result"
    }
   ],
   "source": []
  },
  {
   "cell_type": "code",
   "execution_count": 10,
   "metadata": {},
   "outputs": [
    {
     "data": {
      "text/plain": [
       "0                                                 Bad Guy\n",
       "1                                                 Hey, Ma\n",
       "2                                                 7 rings\n",
       "3                                              Hard Place\n",
       "4                                                    Talk\n",
       "                              ...                        \n",
       "4805    Tchaikovsky: Piano Concerto No. 1 In B Flat Mi...\n",
       "4806                               Segovia Golden Jubilee\n",
       "4807                               Beethoven: Quartet 130\n",
       "4808                                     Operatic Recital\n",
       "4809                                             Virtuoso\n",
       "Name: nominee, Length: 4810, dtype: object"
      ]
     },
     "execution_count": 10,
     "metadata": {},
     "output_type": "execute_result"
    }
   ],
   "source": [
    "df[\"nominee\"]"
   ]
  },
  {
   "cell_type": "code",
   "execution_count": 13,
   "metadata": {},
   "outputs": [
    {
     "data": {
      "text/html": [
       "<div>\n",
       "<style scoped>\n",
       "    .dataframe tbody tr th:only-of-type {\n",
       "        vertical-align: middle;\n",
       "    }\n",
       "\n",
       "    .dataframe tbody tr th {\n",
       "        vertical-align: top;\n",
       "    }\n",
       "\n",
       "    .dataframe thead th {\n",
       "        text-align: right;\n",
       "    }\n",
       "</style>\n",
       "<table border=\"1\" class=\"dataframe\">\n",
       "  <thead>\n",
       "    <tr style=\"text-align: right;\">\n",
       "      <th></th>\n",
       "      <th></th>\n",
       "      <th>year</th>\n",
       "      <th>title</th>\n",
       "      <th>published_at</th>\n",
       "      <th>updated_at</th>\n",
       "      <th>category</th>\n",
       "      <th>workers</th>\n",
       "      <th>img</th>\n",
       "      <th>winner</th>\n",
       "    </tr>\n",
       "    <tr>\n",
       "      <th>nominee</th>\n",
       "      <th>artist</th>\n",
       "      <th></th>\n",
       "      <th></th>\n",
       "      <th></th>\n",
       "      <th></th>\n",
       "      <th></th>\n",
       "      <th></th>\n",
       "      <th></th>\n",
       "      <th></th>\n",
       "    </tr>\n",
       "  </thead>\n",
       "  <tbody>\n",
       "    <tr>\n",
       "      <th>#Eldisco</th>\n",
       "      <th>Alejandro Sanz</th>\n",
       "      <td>2019</td>\n",
       "      <td>62nd Annual GRAMMY Awards  (2019)</td>\n",
       "      <td>2020-05-19T05:10:28-07:00</td>\n",
       "      <td>2020-05-19T05:10:28-07:00</td>\n",
       "      <td>Best Latin Pop Album</td>\n",
       "      <td>NaN</td>\n",
       "      <td>https://www.grammy.com/sites/com/files/styles/...</td>\n",
       "      <td>True</td>\n",
       "    </tr>\n",
       "    <tr>\n",
       "      <th>'Round Midnight</th>\n",
       "      <th>Bobby McFerrin</th>\n",
       "      <td>1992</td>\n",
       "      <td>35th Annual GRAMMY Awards  (1992)</td>\n",
       "      <td>2017-11-28T00:03:45-08:00</td>\n",
       "      <td>2019-09-10T01:07:37-07:00</td>\n",
       "      <td>Best Jazz Vocal Performance</td>\n",
       "      <td>NaN</td>\n",
       "      <td>https://www.grammy.com/sites/com/files/styles/...</td>\n",
       "      <td>True</td>\n",
       "    </tr>\n",
       "    <tr>\n",
       "      <th>'Til Summer Comes Around</th>\n",
       "      <th>Keith Urban</th>\n",
       "      <td>2010</td>\n",
       "      <td>53rd Annual GRAMMY Awards  (2010)</td>\n",
       "      <td>2017-11-28T00:03:45-08:00</td>\n",
       "      <td>2019-09-10T01:08:19-07:00</td>\n",
       "      <td>Best Male Country Vocal Performance</td>\n",
       "      <td>NaN</td>\n",
       "      <td>https://www.grammy.com/sites/com/files/styles/...</td>\n",
       "      <td>True</td>\n",
       "    </tr>\n",
       "    <tr>\n",
       "      <th>(Everything I Do) I Do It For You (From Robin Hood - Prince Of Thieves)</th>\n",
       "      <th>Bryan Adams, Michael Kamen &amp; Robert John \"Mutt\" Lange, songwriters (Bryan Adams)</th>\n",
       "      <td>1991</td>\n",
       "      <td>34th Annual GRAMMY Awards  (1991)</td>\n",
       "      <td>2017-11-28T00:03:45-08:00</td>\n",
       "      <td>2019-09-10T01:06:59-07:00</td>\n",
       "      <td>Best Song Written Specifically For A Motion Pi...</td>\n",
       "      <td>NaN</td>\n",
       "      <td>https://www.grammy.com/sites/com/files/styles/...</td>\n",
       "      <td>True</td>\n",
       "    </tr>\n",
       "    <tr>\n",
       "      <th>(I'm A) Stand By My Woman Man</th>\n",
       "      <th>Ronnie Milsap</th>\n",
       "      <td>1976</td>\n",
       "      <td>19th Annual GRAMMY Awards  (1976)</td>\n",
       "      <td>2017-11-28T00:03:45-08:00</td>\n",
       "      <td>2019-09-10T01:07:37-07:00</td>\n",
       "      <td>Best Country Vocal Performance, Male</td>\n",
       "      <td>NaN</td>\n",
       "      <td>https://www.grammy.com/sites/com/files/styles/...</td>\n",
       "      <td>True</td>\n",
       "    </tr>\n",
       "    <tr>\n",
       "      <th>...</th>\n",
       "      <th>...</th>\n",
       "      <td>...</td>\n",
       "      <td>...</td>\n",
       "      <td>...</td>\n",
       "      <td>...</td>\n",
       "      <td>...</td>\n",
       "      <td>...</td>\n",
       "      <td>...</td>\n",
       "      <td>...</td>\n",
       "    </tr>\n",
       "    <tr>\n",
       "      <th>¡Ahora Sí!</th>\n",
       "      <th>Israel López \"Cachao\"</th>\n",
       "      <td>2004</td>\n",
       "      <td>47th Annual GRAMMY Awards  (2004)</td>\n",
       "      <td>2017-11-28T00:03:45-08:00</td>\n",
       "      <td>2019-09-10T01:08:19-07:00</td>\n",
       "      <td>Best Traditional Tropical Latin Album</td>\n",
       "      <td>Andy Garcia, producer; Eric Schilling, enginee...</td>\n",
       "      <td>https://www.grammy.com/sites/com/files/styles/...</td>\n",
       "      <td>True</td>\n",
       "    </tr>\n",
       "    <tr>\n",
       "      <th>¡México Por Siempre!</th>\n",
       "      <th>Luis Miguel</th>\n",
       "      <td>2018</td>\n",
       "      <td>61st Annual GRAMMY Awards  (2018)</td>\n",
       "      <td>2018-12-06T23:48:49-08:00</td>\n",
       "      <td>2019-09-10T01:06:11-07:00</td>\n",
       "      <td>Best Regional Mexican Music Album (Including T...</td>\n",
       "      <td>Luis Miguel &amp; David Reitzas, producers; David ...</td>\n",
       "      <td>https://www.grammy.com/sites/com/files/styles/...</td>\n",
       "      <td>True</td>\n",
       "    </tr>\n",
       "    <tr>\n",
       "      <th>¡Ritmo!</th>\n",
       "      <th>The Clare Fischer Latin Jazz Big Band</th>\n",
       "      <td>2012</td>\n",
       "      <td>55th Annual GRAMMY Awards  (2012)</td>\n",
       "      <td>2017-11-28T00:03:45-08:00</td>\n",
       "      <td>2019-09-10T01:06:11-07:00</td>\n",
       "      <td>Best Latin Jazz Album</td>\n",
       "      <td>Dan Blessinger, Les Brockmann, Matt Brownlie &amp;...</td>\n",
       "      <td>NaN</td>\n",
       "      <td>True</td>\n",
       "    </tr>\n",
       "    <tr>\n",
       "      <th>¿Qué Es Música Tejana?</th>\n",
       "      <th>The Legends</th>\n",
       "      <td>2000</td>\n",
       "      <td>43rd Annual GRAMMY Awards  (2000)</td>\n",
       "      <td>2017-11-28T00:03:45-08:00</td>\n",
       "      <td>2019-09-10T01:11:09-07:00</td>\n",
       "      <td>Best Tejano Album</td>\n",
       "      <td>Hugo Guerrero &amp; Freddie Martínez, Sr., produce...</td>\n",
       "      <td>https://www.grammy.com/sites/com/files/styles/...</td>\n",
       "      <td>True</td>\n",
       "    </tr>\n",
       "    <tr>\n",
       "      <th>÷ (Divide)</th>\n",
       "      <th>Ed Sheeran</th>\n",
       "      <td>2017</td>\n",
       "      <td>60th Annual GRAMMY Awards  (2017)</td>\n",
       "      <td>2018-05-22T03:08:24-07:00</td>\n",
       "      <td>2019-09-10T01:06:11-07:00</td>\n",
       "      <td>Best Pop Vocal Album</td>\n",
       "      <td>Ed Sheeran, producer; Joe Rubel, Chris Sclafan...</td>\n",
       "      <td>https://www.grammy.com/sites/com/files/styles/...</td>\n",
       "      <td>True</td>\n",
       "    </tr>\n",
       "  </tbody>\n",
       "</table>\n",
       "<p>2841 rows × 8 columns</p>\n",
       "</div>"
      ],
      "text/plain": [
       "                                                                                                       year  \\\n",
       "nominee                                            artist                                                     \n",
       "#Eldisco                                           Alejandro Sanz                                      2019   \n",
       "'Round Midnight                                    Bobby McFerrin                                      1992   \n",
       "'Til Summer Comes Around                           Keith Urban                                         2010   \n",
       "(Everything I Do) I Do It For You (From Robin H... Bryan Adams, Michael Kamen & Robert John \"Mutt\"...  1991   \n",
       "(I'm A) Stand By My Woman Man                      Ronnie Milsap                                       1976   \n",
       "...                                                                                                     ...   \n",
       "¡Ahora Sí!                                         Israel López \"Cachao\"                               2004   \n",
       "¡México Por Siempre!                               Luis Miguel                                         2018   \n",
       "¡Ritmo!                                            The Clare Fischer Latin Jazz Big Band               2012   \n",
       "¿Qué Es Música Tejana?                             The Legends                                         2000   \n",
       "÷ (Divide)                                         Ed Sheeran                                          2017   \n",
       "\n",
       "                                                                                                                                   title  \\\n",
       "nominee                                            artist                                                                                  \n",
       "#Eldisco                                           Alejandro Sanz                                      62nd Annual GRAMMY Awards  (2019)   \n",
       "'Round Midnight                                    Bobby McFerrin                                      35th Annual GRAMMY Awards  (1992)   \n",
       "'Til Summer Comes Around                           Keith Urban                                         53rd Annual GRAMMY Awards  (2010)   \n",
       "(Everything I Do) I Do It For You (From Robin H... Bryan Adams, Michael Kamen & Robert John \"Mutt\"...  34th Annual GRAMMY Awards  (1991)   \n",
       "(I'm A) Stand By My Woman Man                      Ronnie Milsap                                       19th Annual GRAMMY Awards  (1976)   \n",
       "...                                                                                                                                  ...   \n",
       "¡Ahora Sí!                                         Israel López \"Cachao\"                               47th Annual GRAMMY Awards  (2004)   \n",
       "¡México Por Siempre!                               Luis Miguel                                         61st Annual GRAMMY Awards  (2018)   \n",
       "¡Ritmo!                                            The Clare Fischer Latin Jazz Big Band               55th Annual GRAMMY Awards  (2012)   \n",
       "¿Qué Es Música Tejana?                             The Legends                                         43rd Annual GRAMMY Awards  (2000)   \n",
       "÷ (Divide)                                         Ed Sheeran                                          60th Annual GRAMMY Awards  (2017)   \n",
       "\n",
       "                                                                                                                    published_at  \\\n",
       "nominee                                            artist                                                                          \n",
       "#Eldisco                                           Alejandro Sanz                                      2020-05-19T05:10:28-07:00   \n",
       "'Round Midnight                                    Bobby McFerrin                                      2017-11-28T00:03:45-08:00   \n",
       "'Til Summer Comes Around                           Keith Urban                                         2017-11-28T00:03:45-08:00   \n",
       "(Everything I Do) I Do It For You (From Robin H... Bryan Adams, Michael Kamen & Robert John \"Mutt\"...  2017-11-28T00:03:45-08:00   \n",
       "(I'm A) Stand By My Woman Man                      Ronnie Milsap                                       2017-11-28T00:03:45-08:00   \n",
       "...                                                                                                                          ...   \n",
       "¡Ahora Sí!                                         Israel López \"Cachao\"                               2017-11-28T00:03:45-08:00   \n",
       "¡México Por Siempre!                               Luis Miguel                                         2018-12-06T23:48:49-08:00   \n",
       "¡Ritmo!                                            The Clare Fischer Latin Jazz Big Band               2017-11-28T00:03:45-08:00   \n",
       "¿Qué Es Música Tejana?                             The Legends                                         2017-11-28T00:03:45-08:00   \n",
       "÷ (Divide)                                         Ed Sheeran                                          2018-05-22T03:08:24-07:00   \n",
       "\n",
       "                                                                                                                      updated_at  \\\n",
       "nominee                                            artist                                                                          \n",
       "#Eldisco                                           Alejandro Sanz                                      2020-05-19T05:10:28-07:00   \n",
       "'Round Midnight                                    Bobby McFerrin                                      2019-09-10T01:07:37-07:00   \n",
       "'Til Summer Comes Around                           Keith Urban                                         2019-09-10T01:08:19-07:00   \n",
       "(Everything I Do) I Do It For You (From Robin H... Bryan Adams, Michael Kamen & Robert John \"Mutt\"...  2019-09-10T01:06:59-07:00   \n",
       "(I'm A) Stand By My Woman Man                      Ronnie Milsap                                       2019-09-10T01:07:37-07:00   \n",
       "...                                                                                                                          ...   \n",
       "¡Ahora Sí!                                         Israel López \"Cachao\"                               2019-09-10T01:08:19-07:00   \n",
       "¡México Por Siempre!                               Luis Miguel                                         2019-09-10T01:06:11-07:00   \n",
       "¡Ritmo!                                            The Clare Fischer Latin Jazz Big Band               2019-09-10T01:06:11-07:00   \n",
       "¿Qué Es Música Tejana?                             The Legends                                         2019-09-10T01:11:09-07:00   \n",
       "÷ (Divide)                                         Ed Sheeran                                          2019-09-10T01:06:11-07:00   \n",
       "\n",
       "                                                                                                                                                category  \\\n",
       "nominee                                            artist                                                                                                  \n",
       "#Eldisco                                           Alejandro Sanz                                                                   Best Latin Pop Album   \n",
       "'Round Midnight                                    Bobby McFerrin                                                            Best Jazz Vocal Performance   \n",
       "'Til Summer Comes Around                           Keith Urban                                                       Best Male Country Vocal Performance   \n",
       "(Everything I Do) I Do It For You (From Robin H... Bryan Adams, Michael Kamen & Robert John \"Mutt\"...  Best Song Written Specifically For A Motion Pi...   \n",
       "(I'm A) Stand By My Woman Man                      Ronnie Milsap                                                    Best Country Vocal Performance, Male   \n",
       "...                                                                                                                                                  ...   \n",
       "¡Ahora Sí!                                         Israel López \"Cachao\"                                           Best Traditional Tropical Latin Album   \n",
       "¡México Por Siempre!                               Luis Miguel                                         Best Regional Mexican Music Album (Including T...   \n",
       "¡Ritmo!                                            The Clare Fischer Latin Jazz Big Band                                           Best Latin Jazz Album   \n",
       "¿Qué Es Música Tejana?                             The Legends                                                                         Best Tejano Album   \n",
       "÷ (Divide)                                         Ed Sheeran                                                                       Best Pop Vocal Album   \n",
       "\n",
       "                                                                                                                                                 workers  \\\n",
       "nominee                                            artist                                                                                                  \n",
       "#Eldisco                                           Alejandro Sanz                                                                                    NaN   \n",
       "'Round Midnight                                    Bobby McFerrin                                                                                    NaN   \n",
       "'Til Summer Comes Around                           Keith Urban                                                                                       NaN   \n",
       "(Everything I Do) I Do It For You (From Robin H... Bryan Adams, Michael Kamen & Robert John \"Mutt\"...                                                NaN   \n",
       "(I'm A) Stand By My Woman Man                      Ronnie Milsap                                                                                     NaN   \n",
       "...                                                                                                                                                  ...   \n",
       "¡Ahora Sí!                                         Israel López \"Cachao\"                               Andy Garcia, producer; Eric Schilling, enginee...   \n",
       "¡México Por Siempre!                               Luis Miguel                                         Luis Miguel & David Reitzas, producers; David ...   \n",
       "¡Ritmo!                                            The Clare Fischer Latin Jazz Big Band               Dan Blessinger, Les Brockmann, Matt Brownlie &...   \n",
       "¿Qué Es Música Tejana?                             The Legends                                         Hugo Guerrero & Freddie Martínez, Sr., produce...   \n",
       "÷ (Divide)                                         Ed Sheeran                                          Ed Sheeran, producer; Joe Rubel, Chris Sclafan...   \n",
       "\n",
       "                                                                                                                                                     img  \\\n",
       "nominee                                            artist                                                                                                  \n",
       "#Eldisco                                           Alejandro Sanz                                      https://www.grammy.com/sites/com/files/styles/...   \n",
       "'Round Midnight                                    Bobby McFerrin                                      https://www.grammy.com/sites/com/files/styles/...   \n",
       "'Til Summer Comes Around                           Keith Urban                                         https://www.grammy.com/sites/com/files/styles/...   \n",
       "(Everything I Do) I Do It For You (From Robin H... Bryan Adams, Michael Kamen & Robert John \"Mutt\"...  https://www.grammy.com/sites/com/files/styles/...   \n",
       "(I'm A) Stand By My Woman Man                      Ronnie Milsap                                       https://www.grammy.com/sites/com/files/styles/...   \n",
       "...                                                                                                                                                  ...   \n",
       "¡Ahora Sí!                                         Israel López \"Cachao\"                               https://www.grammy.com/sites/com/files/styles/...   \n",
       "¡México Por Siempre!                               Luis Miguel                                         https://www.grammy.com/sites/com/files/styles/...   \n",
       "¡Ritmo!                                            The Clare Fischer Latin Jazz Big Band                                                             NaN   \n",
       "¿Qué Es Música Tejana?                             The Legends                                         https://www.grammy.com/sites/com/files/styles/...   \n",
       "÷ (Divide)                                         Ed Sheeran                                          https://www.grammy.com/sites/com/files/styles/...   \n",
       "\n",
       "                                                                                                       winner  \n",
       "nominee                                            artist                                                      \n",
       "#Eldisco                                           Alejandro Sanz                                        True  \n",
       "'Round Midnight                                    Bobby McFerrin                                        True  \n",
       "'Til Summer Comes Around                           Keith Urban                                           True  \n",
       "(Everything I Do) I Do It For You (From Robin H... Bryan Adams, Michael Kamen & Robert John \"Mutt\"...    True  \n",
       "(I'm A) Stand By My Woman Man                      Ronnie Milsap                                         True  \n",
       "...                                                                                                       ...  \n",
       "¡Ahora Sí!                                         Israel López \"Cachao\"                                 True  \n",
       "¡México Por Siempre!                               Luis Miguel                                           True  \n",
       "¡Ritmo!                                            The Clare Fischer Latin Jazz Big Band                 True  \n",
       "¿Qué Es Música Tejana?                             The Legends                                           True  \n",
       "÷ (Divide)                                         Ed Sheeran                                            True  \n",
       "\n",
       "[2841 rows x 8 columns]"
      ]
     },
     "execution_count": 13,
     "metadata": {},
     "output_type": "execute_result"
    }
   ],
   "source": [
    "grouped_df.first() "
   ]
  },
  {
   "cell_type": "code",
   "execution_count": null,
   "metadata": {},
   "outputs": [],
   "source": []
  },
  {
   "cell_type": "code",
   "execution_count": null,
   "metadata": {},
   "outputs": [],
   "source": []
  },
  {
   "cell_type": "code",
   "execution_count": 29,
   "metadata": {},
   "outputs": [
    {
     "ename": "ValueError",
     "evalue": "No axis named artist for object type <class 'pandas.core.frame.DataFrame'>",
     "output_type": "error",
     "traceback": [
      "\u001b[0;31m----------------------------------------------------------\u001b[0m",
      "\u001b[0;31mValueError\u001b[0m               Traceback (most recent call last)",
      "\u001b[0;32m<ipython-input-29-17c4ebc6d194>\u001b[0m in \u001b[0;36m<module>\u001b[0;34m\u001b[0m\n\u001b[0;32m----> 1\u001b[0;31m \u001b[0marr\u001b[0m \u001b[0;34m=\u001b[0m \u001b[0mdf\u001b[0m\u001b[0;34m.\u001b[0m\u001b[0mgroupby\u001b[0m\u001b[0;34m(\u001b[0m\u001b[0;34m'nominee'\u001b[0m\u001b[0;34m,\u001b[0m \u001b[0;34m'artist'\u001b[0m\u001b[0;34m)\u001b[0m\u001b[0;34m[\u001b[0m\u001b[0;34m'category'\u001b[0m\u001b[0;34m]\u001b[0m\u001b[0;34m.\u001b[0m\u001b[0mapply\u001b[0m\u001b[0;34m(\u001b[0m\u001b[0mlist\u001b[0m\u001b[0;34m)\u001b[0m\u001b[0;34m\u001b[0m\u001b[0;34m\u001b[0m\u001b[0m\n\u001b[0m",
      "\u001b[0;32m/Library/Frameworks/Python.framework/Versions/3.7/lib/python3.7/site-packages/pandas/core/frame.py\u001b[0m in \u001b[0;36mgroupby\u001b[0;34m(self, by, axis, level, as_index, sort, group_keys, squeeze, observed)\u001b[0m\n\u001b[1;32m   5797\u001b[0m         \u001b[0;32mif\u001b[0m \u001b[0mlevel\u001b[0m \u001b[0;32mis\u001b[0m \u001b[0;32mNone\u001b[0m \u001b[0;32mand\u001b[0m \u001b[0mby\u001b[0m \u001b[0;32mis\u001b[0m \u001b[0;32mNone\u001b[0m\u001b[0;34m:\u001b[0m\u001b[0;34m\u001b[0m\u001b[0;34m\u001b[0m\u001b[0m\n\u001b[1;32m   5798\u001b[0m             \u001b[0;32mraise\u001b[0m \u001b[0mTypeError\u001b[0m\u001b[0;34m(\u001b[0m\u001b[0;34m\"You have to supply one of 'by' and 'level'\"\u001b[0m\u001b[0;34m)\u001b[0m\u001b[0;34m\u001b[0m\u001b[0;34m\u001b[0m\u001b[0m\n\u001b[0;32m-> 5799\u001b[0;31m         \u001b[0maxis\u001b[0m \u001b[0;34m=\u001b[0m \u001b[0mself\u001b[0m\u001b[0;34m.\u001b[0m\u001b[0m_get_axis_number\u001b[0m\u001b[0;34m(\u001b[0m\u001b[0maxis\u001b[0m\u001b[0;34m)\u001b[0m\u001b[0;34m\u001b[0m\u001b[0;34m\u001b[0m\u001b[0m\n\u001b[0m\u001b[1;32m   5800\u001b[0m \u001b[0;34m\u001b[0m\u001b[0m\n\u001b[1;32m   5801\u001b[0m         return groupby_generic.DataFrameGroupBy(\n",
      "\u001b[0;32m/Library/Frameworks/Python.framework/Versions/3.7/lib/python3.7/site-packages/pandas/core/generic.py\u001b[0m in \u001b[0;36m_get_axis_number\u001b[0;34m(cls, axis)\u001b[0m\n\u001b[1;32m    405\u001b[0m             \u001b[0;32mexcept\u001b[0m \u001b[0mKeyError\u001b[0m\u001b[0;34m:\u001b[0m\u001b[0;34m\u001b[0m\u001b[0;34m\u001b[0m\u001b[0m\n\u001b[1;32m    406\u001b[0m                 \u001b[0;32mpass\u001b[0m\u001b[0;34m\u001b[0m\u001b[0;34m\u001b[0m\u001b[0m\n\u001b[0;32m--> 407\u001b[0;31m         \u001b[0;32mraise\u001b[0m \u001b[0mValueError\u001b[0m\u001b[0;34m(\u001b[0m\u001b[0;34mf\"No axis named {axis} for object type {cls}\"\u001b[0m\u001b[0;34m)\u001b[0m\u001b[0;34m\u001b[0m\u001b[0;34m\u001b[0m\u001b[0m\n\u001b[0m\u001b[1;32m    408\u001b[0m \u001b[0;34m\u001b[0m\u001b[0m\n\u001b[1;32m    409\u001b[0m     \u001b[0;34m@\u001b[0m\u001b[0mclassmethod\u001b[0m\u001b[0;34m\u001b[0m\u001b[0;34m\u001b[0m\u001b[0m\n",
      "\u001b[0;31mValueError\u001b[0m: No axis named artist for object type <class 'pandas.core.frame.DataFrame'>"
     ]
    }
   ],
   "source": [
    "arr = df.groupby('nominee', 'artist')['category'].apply(list)"
   ]
  },
  {
   "cell_type": "code",
   "execution_count": null,
   "metadata": {},
   "outputs": [],
   "source": []
  },
  {
   "cell_type": "code",
   "execution_count": null,
   "metadata": {},
   "outputs": [],
   "source": []
  },
  {
   "cell_type": "code",
   "execution_count": 28,
   "metadata": {},
   "outputs": [
    {
     "data": {
      "text/plain": [
       "nominee\n",
       "#Eldisco                                                                                              [Best Latin Pop Album]\n",
       "'Round Midnight                                                            [Best Jazz Vocal Performance, Best Jazz Vocal ...\n",
       "'Til Summer Comes Around                                                               [Best Male Country Vocal Performance]\n",
       "(Everything I Do) I Do It For You (From Robin Hood - Prince Of Thieves)    [Best Song Written Specifically For A Motion P...\n",
       "(Go) Get It                                                                                    [Best Jazz Instrumental Solo]\n",
       "                                                                                                 ...                        \n",
       "¡Ahora Sí!                                                                           [Best Traditional Tropical Latin Album]\n",
       "¡México Por Siempre!                                                       [Best Regional Mexican Music Album (Including ...\n",
       "¡Ritmo!                                                                                              [Best Latin Jazz Album]\n",
       "¿Qué Es Música Tejana?                                                                                   [Best Tejano Album]\n",
       "÷ (Divide)                                                                                            [Best Pop Vocal Album]\n",
       "Name: category, Length: 4131, dtype: object"
      ]
     },
     "execution_count": 28,
     "metadata": {},
     "output_type": "execute_result"
    }
   ],
   "source": [
    "arr"
   ]
  },
  {
   "cell_type": "code",
   "execution_count": 24,
   "metadata": {},
   "outputs": [
    {
     "data": {
      "text/plain": [
       "['year',\n",
       " 'title',\n",
       " 'published_at',\n",
       " 'updated_at',\n",
       " 'category',\n",
       " 'nominee',\n",
       " 'artist',\n",
       " 'workers',\n",
       " 'img',\n",
       " 'winner']"
      ]
     },
     "execution_count": 24,
     "metadata": {},
     "output_type": "execute_result"
    }
   ],
   "source": []
  },
  {
   "cell_type": "code",
   "execution_count": 32,
   "metadata": {},
   "outputs": [],
   "source": [
    "grouped_df = df.groupby([\"nominee\", \"artist\"])['category'].apply(list)"
   ]
  },
  {
   "cell_type": "code",
   "execution_count": 35,
   "metadata": {},
   "outputs": [],
   "source": [
    "arr = grouped_df.array"
   ]
  },
  {
   "cell_type": "code",
   "execution_count": 36,
   "metadata": {},
   "outputs": [
    {
     "data": {
      "text/plain": [
       "<PandasArray>\n",
       "[                                                 ['Best Latin Pop Album'],\n",
       "      ['Best Jazz Vocal Performance', 'Best Jazz Vocal Performance, Male'],\n",
       "                                   ['Best Male Country Vocal Performance'],\n",
       " ['Best Song Written Specifically For A Motion Picture Or For Television'],\n",
       "                                  ['Best Country Vocal Performance, Male'],\n",
       "                     ['Best Pop Performance By A Duo Or Group With Vocal'],\n",
       "                           ['Best Rhythm & Blues Vocal Performance, Male'],\n",
       "                                  ['Best Country Vocal Performance, Male'],\n",
       "                                   ['Best Contemporary Soul Gospel Album'],\n",
       "                  ['Best Gospel/Contemporary Christian Music Performance'],\n",
       " ...\n",
       "                                      ['Best Zydeco Or Cajun Music Album'],\n",
       "                                                       ['Best Rock Album'],\n",
       "                                       ['Best Musical Album For Children'],\n",
       "                           ['Best Latin Rock, Urban or Alternative Album'],\n",
       "                             ['Album Of The Year', 'Best Pop Vocal Album'],\n",
       "                                 ['Best Traditional Tropical Latin Album'],\n",
       "                  ['Best Regional Mexican Music Album (Including Tejano)'],\n",
       "                                                 ['Best Latin Jazz Album'],\n",
       "                                                     ['Best Tejano Album'],\n",
       "                                                  ['Best Pop Vocal Album']]\n",
       "Length: 2841, dtype: object"
      ]
     },
     "execution_count": 36,
     "metadata": {},
     "output_type": "execute_result"
    }
   ],
   "source": [
    "arr"
   ]
  },
  {
   "cell_type": "code",
   "execution_count": 39,
   "metadata": {},
   "outputs": [
    {
     "name": "stdout",
     "output_type": "stream",
     "text": [
      "['Best Latin Pop Album']\n",
      "['Best Jazz Vocal Performance', 'Best Jazz Vocal Performance, Male']\n",
      "['Best Male Country Vocal Performance']\n",
      "['Best Song Written Specifically For A Motion Picture Or For Television']\n",
      "['Best Country Vocal Performance, Male']\n",
      "['Best Pop Performance By A Duo Or Group With Vocal']\n",
      "['Best Rhythm & Blues Vocal Performance, Male']\n",
      "['Best Country Vocal Performance, Male']\n",
      "['Best Contemporary Soul Gospel Album']\n",
      "['Best Gospel/Contemporary Christian Music Performance']\n"
     ]
    }
   ],
   "source": [
    "for elem in grouped_df[:10]:\n",
    "    print(elem)"
   ]
  },
  {
   "cell_type": "code",
   "execution_count": 40,
   "metadata": {},
   "outputs": [
    {
     "data": {
      "text/plain": [
       "nominee                                                                  artist                                                                          \n",
       "#Eldisco                                                                 Alejandro Sanz                                                                                                 [Best Latin Pop Album]\n",
       "'Round Midnight                                                          Bobby McFerrin                                                                      [Best Jazz Vocal Performance, Best Jazz Vocal ...\n",
       "'Til Summer Comes Around                                                 Keith Urban                                                                                     [Best Male Country Vocal Performance]\n",
       "(Everything I Do) I Do It For You (From Robin Hood - Prince Of Thieves)  Bryan Adams, Michael Kamen & Robert John \"Mutt\" Lange, songwriters (Bryan Adams)    [Best Song Written Specifically For A Motion P...\n",
       "(I'm A) Stand By My Woman Man                                            Ronnie Milsap                                                                                  [Best Country Vocal Performance, Male]\n",
       "                                                                                                                                                                                   ...                        \n",
       "¡Ahora Sí!                                                               Israel López \"Cachao\"                                                                         [Best Traditional Tropical Latin Album]\n",
       "¡México Por Siempre!                                                     Luis Miguel                                                                         [Best Regional Mexican Music Album (Including ...\n",
       "¡Ritmo!                                                                  The Clare Fischer Latin Jazz Big Band                                                                         [Best Latin Jazz Album]\n",
       "¿Qué Es Música Tejana?                                                   The Legends                                                                                                       [Best Tejano Album]\n",
       "÷ (Divide)                                                               Ed Sheeran                                                                                                     [Best Pop Vocal Album]\n",
       "Name: category, Length: 2841, dtype: object"
      ]
     },
     "execution_count": 40,
     "metadata": {},
     "output_type": "execute_result"
    }
   ],
   "source": [
    "grouped_df"
   ]
  },
  {
   "cell_type": "code",
   "execution_count": 48,
   "metadata": {},
   "outputs": [
    {
     "name": "stdout",
     "output_type": "stream",
     "text": [
      "(('#Eldisco', 'Alejandro Sanz'), ['Best Latin Pop Album'])\n",
      "((\"'Round Midnight\", 'Bobby McFerrin'), ['Best Jazz Vocal Performance', 'Best Jazz Vocal Performance, Male'])\n",
      "((\"'Til Summer Comes Around\", 'Keith Urban'), ['Best Male Country Vocal Performance'])\n",
      "(('(Everything I Do) I Do It For You (From Robin Hood - Prince Of Thieves)', 'Bryan Adams, Michael Kamen & Robert John \"Mutt\" Lange, songwriters (Bryan Adams)'), ['Best Song Written Specifically For A Motion Picture Or For Television'])\n",
      "((\"(I'm A) Stand By My Woman Man\", 'Ronnie Milsap'), ['Best Country Vocal Performance, Male'])\n"
     ]
    }
   ],
   "source": [
    "for item in itertools.islice(grouped_df.iteritems(), 5): \n",
    "    print(item)"
   ]
  },
  {
   "cell_type": "code",
   "execution_count": null,
   "metadata": {},
   "outputs": [],
   "source": []
  },
  {
   "cell_type": "code",
   "execution_count": 50,
   "metadata": {},
   "outputs": [],
   "source": [
    "#ok now lets add some stuff to the mongdb"
   ]
  },
  {
   "cell_type": "code",
   "execution_count": 57,
   "metadata": {},
   "outputs": [
    {
     "name": "stdout",
     "output_type": "stream",
     "text": [
      "{'track_mame': '#Eldisco', 'artist_name': 'Alejandro Sanz', 'Best Latin Pop Album': True}\n",
      "{'track_mame': \"'Round Midnight\", 'artist_name': 'Bobby McFerrin', 'Best Jazz Vocal Performance': True, 'Best Jazz Vocal Performance, Male': True}\n"
     ]
    }
   ],
   "source": [
    "# example of what a song is\n",
    "# ((\"'Round Midnight\", 'Bobby McFerrin'), ['Best Jazz Vocal Performance', 'Best Jazz Vocal Performance, Male'])\n",
    "for song in itertools.islice(grouped_df.iteritems(), 2): \n",
    "    awardObj = { \"track_mame\": song[0][0], \"artist_name\": song[0][1]}\n",
    "    awards = song[1]\n",
    "    for award in awards:\n",
    "        awardObj[award] = True \n",
    "    print(awardObj)"
   ]
  },
  {
   "cell_type": "code",
   "execution_count": 67,
   "metadata": {},
   "outputs": [],
   "source": [
    "from pymongo import MongoClient\n",
    "import re\n"
   ]
  },
  {
   "cell_type": "code",
   "execution_count": 63,
   "metadata": {},
   "outputs": [],
   "source": [
    "mongo_client = MongoClient(\"mongodb://127.0.0.1:27017/\")\n",
    "mongoViber_db = mongo_client.viberAwards"
   ]
  },
  {
   "cell_type": "code",
   "execution_count": 68,
   "metadata": {},
   "outputs": [],
   "source": [
    "for song in grouped_df.iteritems(): \n",
    "    awardObj = { \"track_mame\": song[0][0], \"artist_name\": song[0][1]}\n",
    "    awards = song[1]\n",
    "    for award in awards:\n",
    "        award = re.sub('.', '', award)\n",
    "        awardObj[award] = True \n",
    "    #print(awardObj)\n",
    "    mongoViber_db.awards.insert_one(awardObj)"
   ]
  },
  {
   "cell_type": "code",
   "execution_count": null,
   "metadata": {},
   "outputs": [],
   "source": []
  }
 ],
 "metadata": {
  "kernelspec": {
   "display_name": "Python 3",
   "language": "python",
   "name": "python3"
  },
  "language_info": {
   "codemirror_mode": {
    "name": "ipython",
    "version": 3
   },
   "file_extension": ".py",
   "mimetype": "text/x-python",
   "name": "python",
   "nbconvert_exporter": "python",
   "pygments_lexer": "ipython3",
   "version": "3.7.4"
  }
 },
 "nbformat": 4,
 "nbformat_minor": 2
}
